{
 "cells": [
  {
   "cell_type": "code",
   "execution_count": 1,
   "metadata": {},
   "outputs": [],
   "source": [
    "from pandas import read_csv\n",
    "import matplotlib.pyplot as plt\n",
    "import plotly.express as px\n",
    "import os\n",
    "from numpy import  random\n"
   ]
  },
  {
   "cell_type": "code",
   "execution_count": 2,
   "metadata": {},
   "outputs": [],
   "source": [
    "seed = 42\n",
    "random.seed(seed)\n",
    "dfTime = read_csv(\"Product families over time.csv\")"
   ]
  },
  {
   "cell_type": "code",
   "execution_count": 5,
   "metadata": {},
   "outputs": [],
   "source": [
    "df_long = dfTime.melt(id_vars=['Product Family'], var_name='Date', value_name='Valeur')\n"
   ]
  },
  {
   "cell_type": "code",
   "execution_count": null,
   "metadata": {},
   "outputs": [],
   "source": [
    "\n",
    "# Tracer la série temporelle\n",
    "fig = px.line(df_long,\n",
    "               x='Date', y='Valeur',\n",
    "              \n",
    "               color='Product Family', \n",
    "               \n",
    "               title='Séries temporelles des produits',\n",
    "               )\n",
    "fig.show()\n",
    "fig.write_html('PFTime.html')\n"
   ]
  },
  {
   "cell_type": "code",
   "execution_count": null,
   "metadata": {},
   "outputs": [],
   "source": [
    "df_long['Year'] = df_long['Date'].str.split(\"-\").str[0]\n",
    "df_yearly = df_long.groupby(['Year', 'Product Family']).agg({'Valeur': 'sum'}).reset_index()\n",
    "\n",
    "# Tracer la série temporelle annuelle\n",
    "fig = px.line(df_yearly,\n",
    "               x='Year', y='Valeur',\n",
    "               color='Product Family', \n",
    "               title='Séries temporelles annuelles des produits')\n",
    "fig.show()\n",
    "fig.write_html('PFTime_Annuel.html')"
   ]
  }
 ],
 "metadata": {
  "kernelspec": {
   "display_name": "devdaveyBickford",
   "language": "python",
   "name": "python3"
  },
  "language_info": {
   "codemirror_mode": {
    "name": "ipython",
    "version": 3
   },
   "file_extension": ".py",
   "mimetype": "text/x-python",
   "name": "python",
   "nbconvert_exporter": "python",
   "pygments_lexer": "ipython3",
   "version": "3.12.1"
  }
 },
 "nbformat": 4,
 "nbformat_minor": 2
}
