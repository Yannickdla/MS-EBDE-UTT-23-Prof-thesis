{
 "cells": [
  {
   "cell_type": "markdown",
   "metadata": {},
   "source": [
    "## On regarde le dossier qui contient les fichiers de vente"
   ]
  },
  {
   "cell_type": "code",
   "execution_count": null,
   "metadata": {},
   "outputs": [],
   "source": [
    "from pandas import read_excel, ExcelFile,concat,to_datetime\n",
    "from os import listdir, path\n",
    "\n",
    "chemin_donnees = \"data Input\"\n",
    "prefix_fichier = \"Data Base Sales\"\n",
    "carac_feuille = \"Base\"\n",
    "liste_DF = list()\n",
    "nom_des_fichiers = list()\n",
    "for file in listdir(chemin_donnees):\n",
    "    if file.startswith(prefix_fichier) and file.endswith(\".xlsx\") :\n",
    "        nom_des_fichiers.append(file)\n",
    "nom_des_fichiers"
   ]
  },
  {
   "cell_type": "markdown",
   "metadata": {},
   "source": [
    "## On rajoute les données de vente dans des listes de dataframes"
   ]
  },
  {
   "cell_type": "code",
   "execution_count": null,
   "metadata": {},
   "outputs": [],
   "source": [
    "for file_name in nom_des_fichiers:\n",
    "    try:\n",
    "        pathcomplet = path.join(chemin_donnees,file_name)\n",
    "        xls = ExcelFile(pathcomplet)\n",
    "\n",
    "        for sheet_name in xls.sheet_names:            \n",
    "            if  carac_feuille in sheet_name.split(' '):\n",
    "                # Lire les données de la feuille\n",
    "                df = read_excel(io = pathcomplet,  sheet_name=sheet_name)\n",
    "                print(f\"Lecture du fichier {file_name}, feuille {sheet_name}\")\n",
    "                liste_DF.append(df)\n",
    "                break  \n",
    "        else:\n",
    "            print(f\"Aucune feuille contenant 'Base' dans le fichier {file_name}\")\n",
    "        \n",
    "    except Exception as e:\n",
    "        print(f\"Erreur lors de la lecture du fichier {file_name}: {e}\")"
   ]
  },
  {
   "cell_type": "markdown",
   "metadata": {},
   "source": [
    "## On combine les fichiers et on l'enregistre au format csv"
   ]
  },
  {
   "cell_type": "code",
   "execution_count": null,
   "metadata": {},
   "outputs": [],
   "source": [
    "combined_df2 = concat(liste_DF, ignore_index=True)\n",
    "\n",
    "combined_df2[\"datestr\"] = combined_df2['TIME'].apply(lambda x: f\"{x:.2f}\")\n",
    "combined_df2[\"date_dt\"] = to_datetime(combined_df2[\"datestr\"], format=\"%Y.%m\")\n",
    "combined_df2 = combined_df2.drop(columns=['YEAR'])\n",
    "\n",
    "\n",
    "## penser à gérer le chemin du fichier de sortie du dataframe\n",
    "combined_df2.to_csv(\"data Combined Buffer\\\\combined_sales_2.csv\", index=False)\n"
   ]
  }
 ],
 "metadata": {
  "kernelspec": {
   "display_name": "base",
   "language": "python",
   "name": "python3"
  },
  "language_info": {
   "codemirror_mode": {
    "name": "ipython",
    "version": 3
   },
   "file_extension": ".py",
   "mimetype": "text/x-python",
   "name": "python",
   "nbconvert_exporter": "python",
   "pygments_lexer": "ipython3",
   "version": "3.12.1"
  }
 },
 "nbformat": 4,
 "nbformat_minor": 2
}
