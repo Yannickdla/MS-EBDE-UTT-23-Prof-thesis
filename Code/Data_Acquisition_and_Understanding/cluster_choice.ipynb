{
 "cells": [
  {
   "cell_type": "markdown",
   "metadata": {},
   "source": [
    "## Choix du cluster"
   ]
  },
  {
   "cell_type": "code",
   "execution_count": 1,
   "metadata": {},
   "outputs": [
    {
     "name": "stderr",
     "output_type": "stream",
     "text": [
      "d:\\WK\\ydongue\\AppData\\Local\\anaconda3\\envs\\devdaveyBickford\\Lib\\site-packages\\tslearn\\bases\\bases.py:15: UserWarning: h5py not installed, hdf5 features will not be supported.\n",
      "Install h5py to use hdf5 features: http://docs.h5py.org/\n",
      "  warn(h5py_msg)\n"
     ]
    }
   ],
   "source": [
    "from pandas import read_csv,to_datetime, DataFrame\n",
    "import matplotlib.pyplot as plt\n",
    "import plotly.express as px\n",
    "from scipy.stats import zscore\n",
    "import os\n",
    "from statsmodels.tsa.seasonal import seasonal_decompose\n",
    "from ydata_profiling import ProfileReport\n",
    "from numpy import array, newaxis\n",
    "from tslearn.clustering import TimeSeriesKMeans, silhouette_score,KShape, KernelKMeans\n",
    "from tslearn.preprocessing import TimeSeriesScalerMeanVariance\n",
    "from sklearn.cluster import DBSCAN\n",
    "from sklearn.metrics import calinski_harabasz_score, davies_bouldin_score"
   ]
  },
  {
   "cell_type": "code",
   "execution_count": 2,
   "metadata": {},
   "outputs": [
    {
     "name": "stderr",
     "output_type": "stream",
     "text": [
      "<>:2: SyntaxWarning: invalid escape sequence '\\A'\n",
      "<>:2: SyntaxWarning: invalid escape sequence '\\A'\n",
      "D:\\WK\\ydongue\\AppData\\Local\\Temp\\ipykernel_15088\\421283029.py:2: SyntaxWarning: invalid escape sequence '\\A'\n",
      "  AlldfContinent = read_csv(\"D:\\Alternance_2023_UTT\\MS EBDE UTT 23 Prof thesis\\Sample_Data\\Processed\\Product families over time.csv\")\n"
     ]
    }
   ],
   "source": [
    "# Charger les données\n",
    "AlldfContinent = read_csv(\"D:\\Alternance_2023_UTT\\MS EBDE UTT 23 Prof thesis\\Sample_Data\\Processed\\Product families over time.csv\")\n",
    "\n",
    "# Transposer le DataFrame pour obtenir les Product Families comme colonnes\n",
    "df2 = AlldfContinent.set_index('Product Family').T\n",
    "df2.index = to_datetime(df2.index)\n",
    "X = df2.T.values\n",
    "product_families = df2.columns"
   ]
  },
  {
   "cell_type": "code",
   "execution_count": 4,
   "metadata": {},
   "outputs": [
    {
     "name": "stdout",
     "output_type": "stream",
     "text": [
      "   productfamilies  clusters\n",
      "0                A         1\n",
      "1                B         1\n",
      "2                C         1\n",
      "3                D         1\n",
      "4                E         2\n",
      "5                F         2\n",
      "6                G         0\n",
      "7                H         0\n",
      "8                I         0\n",
      "9                J         1\n",
      "10               K         0\n",
      "11               L         0\n",
      "12               M         0\n",
      "13               N         0\n",
      "14               O         0\n",
      "15               P         0\n",
      "16               Q         0\n"
     ]
    },
    {
     "name": "stderr",
     "output_type": "stream",
     "text": [
      "<>:13: SyntaxWarning: invalid escape sequence '\\A'\n",
      "<>:13: SyntaxWarning: invalid escape sequence '\\A'\n",
      "D:\\WK\\ydongue\\AppData\\Local\\Temp\\ipykernel_15088\\2630724063.py:13: SyntaxWarning: invalid escape sequence '\\A'\n",
      "  results_dfkernelKmeans.to_csv(\"D:\\Alternance_2023_UTT\\MS EBDE UTT 23 Prof thesis\\Sample_Data\\For_Modeling\\clustered_product_families.csv\", index=False)\n",
      "d:\\WK\\ydongue\\AppData\\Local\\anaconda3\\envs\\devdaveyBickford\\Lib\\site-packages\\tslearn\\utils\\utils.py:90: UserWarning: 2-Dimensional data passed. Assuming these are 17 1-dimensional timeseries\n",
      "  warnings.warn(\n"
     ]
    }
   ],
   "source": [
    "series_scaled = zscore(X)\n",
    "n_clusters = 3  # Nombre de clusters souhaité\n",
    "mtr = \"laplacian\"\n",
    "model = KernelKMeans(n_clusters=n_clusters, kernel=mtr, n_init=150, max_iter=100, random_state=0)\n",
    "labels = model.fit_predict(series_scaled)\n",
    "\n",
    "results_dfkernelKmeans = DataFrame({\n",
    "    'productfamilies': product_families,\n",
    "    'clusters': labels})\n",
    "\n",
    "print(results_dfkernelKmeans)\n",
    "\n",
    "results_dfkernelKmeans.to_csv(\"D:\\Alternance_2023_UTT\\MS EBDE UTT 23 Prof thesis\\Sample_Data\\For_Modeling\\clustered_product_families.csv\", index=False)\n"
   ]
  }
 ],
 "metadata": {
  "kernelspec": {
   "display_name": "devdaveyBickford",
   "language": "python",
   "name": "python3"
  },
  "language_info": {
   "codemirror_mode": {
    "name": "ipython",
    "version": 3
   },
   "file_extension": ".py",
   "mimetype": "text/x-python",
   "name": "python",
   "nbconvert_exporter": "python",
   "pygments_lexer": "ipython3",
   "version": "3.12.1"
  }
 },
 "nbformat": 4,
 "nbformat_minor": 2
}
