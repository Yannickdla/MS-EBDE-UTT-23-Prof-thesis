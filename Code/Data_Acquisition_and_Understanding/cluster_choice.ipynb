{
 "cells": [
  {
   "cell_type": "markdown",
   "metadata": {},
   "source": [
    "## Choix du cluster"
   ]
  },
  {
   "cell_type": "code",
   "execution_count": 4,
   "metadata": {},
   "outputs": [],
   "source": [
    "from pandas import read_csv,to_datetime, DataFrame, merge\n",
    "import matplotlib.pyplot as plt\n",
    "from scipy.stats import zscore\n",
    "\n",
    "from tslearn.clustering import  KernelKMeans\n"
   ]
  },
  {
   "cell_type": "code",
   "execution_count": 2,
   "metadata": {},
   "outputs": [
    {
     "name": "stderr",
     "output_type": "stream",
     "text": [
      "<>:2: SyntaxWarning: invalid escape sequence '\\A'\n",
      "<>:2: SyntaxWarning: invalid escape sequence '\\A'\n",
      "D:\\WK\\ydongue\\AppData\\Local\\Temp\\ipykernel_3400\\421283029.py:2: SyntaxWarning: invalid escape sequence '\\A'\n",
      "  AlldfContinent = read_csv(\"D:\\Alternance_2023_UTT\\MS EBDE UTT 23 Prof thesis\\Sample_Data\\Processed\\Product families over time.csv\")\n"
     ]
    }
   ],
   "source": [
    "# Charger les données\n",
    "AlldfContinent = read_csv(\"D:\\Alternance_2023_UTT\\MS EBDE UTT 23 Prof thesis\\Sample_Data\\Processed\\Product families over time.csv\")\n",
    "\n",
    "# Transposer le DataFrame pour obtenir les Product Families comme colonnes\n",
    "df2 = AlldfContinent.set_index('Product Family').T\n",
    "df2.index = to_datetime(df2.index)\n",
    "X = df2.T.values\n",
    "product_families = df2.columns"
   ]
  },
  {
   "cell_type": "code",
   "execution_count": null,
   "metadata": {},
   "outputs": [],
   "source": [
    "series_scaled = zscore(X)\n",
    "n_clusters = 3  # Nombre de clusters souhaité\n",
    "mtr = \"laplacian\"\n",
    "model = KernelKMeans(n_clusters=n_clusters, kernel=mtr, n_init=150, max_iter=100, random_state=0)\n",
    "labels = model.fit_predict(series_scaled)\n",
    "\n",
    "results_dfkernelKmeans = DataFrame({\n",
    "    'productfamilies': product_families,\n",
    "    'clusters': labels})\n",
    "\n",
    "print(results_dfkernelKmeans)\n",
    "\n",
    "results_dfkernelKmeans.to_csv(\"D:\\Alternance_2023_UTT\\MS EBDE UTT 23 Prof thesis\\Sample_Data\\For_Modeling\\clustered_product_families.csv\", index=False)\n"
   ]
  },
  {
   "cell_type": "markdown",
   "metadata": {},
   "source": [
    "## Tracé des Barycentre des séries par cluster"
   ]
  },
  {
   "cell_type": "code",
   "execution_count": null,
   "metadata": {},
   "outputs": [],
   "source": [
    "# Assurez-vous de copier les bonnes données dans les DataFrames\n",
    "time_series_df = AlldfContinent.copy()\n",
    "clusters_df = results_dfkernelKmeans.copy()\n",
    "\n",
    "# Fusionner les séries temporelles avec les informations de cluster\n",
    "merged_df = merge(time_series_df, clusters_df, left_on='Product Family', right_on='productfamilies')\n",
    "merged_df.drop(columns=['productfamilies'], inplace=True)\n",
    "\n",
    "# Sélectionner uniquement les colonnes numériques\n",
    "numeric_columns = merged_df.select_dtypes(include=['number']).columns\n",
    "\n",
    "# Calculer la moyenne (barycentre) pour chaque cluster en utilisant uniquement les colonnes numériques\n",
    "cluster_means = merged_df.groupby('clusters')[numeric_columns].mean()\n",
    "\n",
    "# Tracer les barycentres pour chaque cluster\n",
    "plt.figure(figsize=(14, 8))\n",
    "for cluster in cluster_means.index:\n",
    "    plt.plot(cluster_means.columns, cluster_means.loc[cluster], label=f'Cluster {cluster}')\n",
    "\n",
    "plt.title('Barycentre (Mean Time Series) for Each Cluster')\n",
    "plt.xlabel('Time')\n",
    "plt.ylabel('Mean Value')\n",
    "plt.legend(title='Cluster')\n",
    "plt.xticks(rotation=45)\n",
    "plt.grid(True)\n",
    "plt.show()"
   ]
  }
 ],
 "metadata": {
  "kernelspec": {
   "display_name": "devdaveyBickford",
   "language": "python",
   "name": "python3"
  },
  "language_info": {
   "codemirror_mode": {
    "name": "ipython",
    "version": 3
   },
   "file_extension": ".py",
   "mimetype": "text/x-python",
   "name": "python",
   "nbconvert_exporter": "python",
   "pygments_lexer": "ipython3",
   "version": "3.12.1"
  }
 },
 "nbformat": 4,
 "nbformat_minor": 2
}
